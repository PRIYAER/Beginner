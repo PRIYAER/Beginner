{
 "cells": [
  {
   "cell_type": "code",
   "execution_count": 1,
   "id": "f27b3003",
   "metadata": {},
   "outputs": [
    {
     "name": "stdout",
     "output_type": "stream",
     "text": [
      "348\n",
      "3 4 8\n"
     ]
    }
   ],
   "source": [
    "\"\"\"Write a code to get an integer N and print the digits of the integer.\n",
    "Sample Input :\n",
    "348\n",
    "Sample Output :\n",
    "3 4 8\n",
    "\"\"\"\n",
    "\n",
    "n=list(input())\n",
    "for i in range(1):\n",
    "    print(*n,sep=' ')"
   ]
  },
  {
   "cell_type": "code",
   "execution_count": 2,
   "id": "c150e3b0",
   "metadata": {},
   "outputs": [
    {
     "name": "stdout",
     "output_type": "stream",
     "text": [
      "10\n",
      "10\n",
      "9\n",
      "8\n",
      "7\n",
      "6\n",
      "5\n",
      "4\n",
      "3\n",
      "2\n",
      "1\n"
     ]
    }
   ],
   "source": [
    "\"\"\"Write a code to get an integer N and print the values from N to 1.\n",
    "Sample Input :\n",
    "10\n",
    "Sample Output :\n",
    "10\n",
    "9\n",
    "8\n",
    "7\n",
    "6\n",
    "5\n",
    "4\n",
    "3\n",
    "2\n",
    "1\n",
    "\"\"\"\n",
    "\n",
    "n=int(input())\n",
    "for i in range(n,0,-1):\n",
    "    print(i)\n"
   ]
  },
  {
   "cell_type": "code",
   "execution_count": 3,
   "id": "7452dfa4",
   "metadata": {},
   "outputs": [
    {
     "name": "stdout",
     "output_type": "stream",
     "text": [
      "2 3\n",
      "2\n",
      "2\n",
      "2\n"
     ]
    }
   ],
   "source": [
    "\"\"\"Write a code to get 2 integers A and N. Print the integer A, N times in separate line.\n",
    "Sample Input :\n",
    "2 3\n",
    "Sample Output :\n",
    "2\n",
    "2\n",
    "2\n",
    "\"\"\"\n",
    "\n",
    "a,b=list(map(int,input().split()))\n",
    "for i in range(b):\n",
    "    print(a)\n"
   ]
  },
  {
   "cell_type": "code",
   "execution_count": 4,
   "id": "98dd4933",
   "metadata": {},
   "outputs": [
    {
     "name": "stdout",
     "output_type": "stream",
     "text": [
      "1\n",
      "1\n",
      "2\n"
     ]
    }
   ],
   "source": [
    "\"\"\"You are given Two Numbers, A and B. If C = A + B. Find C. Note: Round off the output to a single decimal place.\n",
    "Sample Input :\n",
    "1\n",
    "1\n",
    "Sample Output :\n",
    "2\n",
    "\"\"\"\n",
    "\n",
    "a=int(input())\n",
    "b=int(input())\n",
    "print(round(a+b,1))\n"
   ]
  },
  {
   "cell_type": "code",
   "execution_count": 5,
   "id": "66eff329",
   "metadata": {},
   "outputs": [
    {
     "name": "stdout",
     "output_type": "stream",
     "text": [
      "Lorem Ipsum\n",
      "10\n"
     ]
    }
   ],
   "source": [
    "\"\"\"Let \"A\"  be a string. Remove all the whitespaces and find it's length.\n",
    "Sample Input :\n",
    "Lorem Ipsum\n",
    "Sample Output :\n",
    "10\n",
    "\"\"\"\n",
    "\n",
    "n=input()\n",
    "a=n.replace(' ','')\n",
    "print(len(a))"
   ]
  },
  {
   "cell_type": "code",
   "execution_count": 6,
   "id": "565d8668",
   "metadata": {},
   "outputs": [
    {
     "name": "stdout",
     "output_type": "stream",
     "text": [
      "1234\n",
      "2 4\n",
      "1 3\n"
     ]
    }
   ],
   "source": [
    "\"\"\"Write a code get an integer number as input and print the odd and even digits of the number separately.\n",
    "Sample Input :\n",
    "1234\n",
    "Sample Output :\n",
    "2 4\n",
    "1 3\n",
    "\"\"\"\n",
    "\n",
    "a=input()\n",
    "b=[]\n",
    "for i in a:\n",
    "    b.append(int(i))\n",
    "even=[]\n",
    "odd=[]\n",
    "for i in b:\n",
    "    if i%2==0:\n",
    "        even.append(i)\n",
    "    else:\n",
    "        odd.append(i)\n",
    "print(*sorted(even))\n",
    "print(*sorted(odd))"
   ]
  },
  {
   "cell_type": "code",
   "execution_count": 7,
   "id": "16eff57f",
   "metadata": {},
   "outputs": [
    {
     "name": "stdout",
     "output_type": "stream",
     "text": [
      "2020\n",
      "Y\n"
     ]
    }
   ],
   "source": [
    "\"\"\"Let \"A\" be a year, write a program to check whether this year is a leap year or not.\n",
    "Print \"Y\" if its a leap year and \"N\" if its a common year.\n",
    "Sample Input :\n",
    "2020\n",
    "Sample Output :\n",
    "Y\n",
    "\"\"\"\n",
    "\n",
    "n=int(input())\n",
    "if n%4==0:\n",
    "    if n%100==0:\n",
    "        if n%400==0:\n",
    "            print('Y')\n",
    "        else:\n",
    "            print('N')\n",
    "    else:\n",
    "        print('Y')\n",
    "        \n",
    "else:\n",
    "    print('N')"
   ]
  },
  {
   "cell_type": "code",
   "execution_count": 8,
   "id": "0970754e",
   "metadata": {},
   "outputs": [
    {
     "name": "stdout",
     "output_type": "stream",
     "text": [
      "23 1\n",
      "1\n"
     ]
    }
   ],
   "source": [
    "\"\"\"You are provided with two numbers. Find and print the smaller number.\n",
    "Sample Input :\n",
    "23 1\n",
    "Sample Output :\n",
    "1\n",
    "\"\"\"\n",
    "\n",
    "a,b=list(map(int,input().split()))\n",
    "print(min(a,b))"
   ]
  },
  {
   "cell_type": "code",
   "execution_count": 9,
   "id": "bb73d49d",
   "metadata": {},
   "outputs": [
    {
     "name": "stdout",
     "output_type": "stream",
     "text": [
      "3\n",
      "9 18 27\n"
     ]
    }
   ],
   "source": [
    "\"\"\"Using the method of looping, write a program to print the table of 9 till N in the format as follows:\n",
    "(N is input by the user) 9 18 27...\n",
    "Sample Input :\n",
    "3\n",
    "Sample Output :\n",
    "9 18 27\n",
    "\"\"\"\n",
    "\n",
    "n=int(input())\n",
    "a=[]\n",
    "for i in range(1,n+1):\n",
    "    a.append(i*9)\n",
    "print(*a)\n"
   ]
  },
  {
   "cell_type": "code",
   "execution_count": 10,
   "id": "dcdbb9f6",
   "metadata": {},
   "outputs": [
    {
     "name": "stdout",
     "output_type": "stream",
     "text": [
      "GUVI\n",
      "IVUG\n"
     ]
    }
   ],
   "source": [
    "\"\"\"Write a program to get a string as input and reverse the string without using temporary variable.\n",
    "Sample Input :\n",
    "GUVI\n",
    "Sample Output :\n",
    "IVUG\n",
    "\"\"\"\n",
    "\n",
    "s=input()\n",
    "a=s[::-1]\n",
    "print(a)"
   ]
  }
 ],
 "metadata": {
  "kernelspec": {
   "display_name": "Python 3 (ipykernel)",
   "language": "python",
   "name": "python3"
  },
  "language_info": {
   "codemirror_mode": {
    "name": "ipython",
    "version": 3
   },
   "file_extension": ".py",
   "mimetype": "text/x-python",
   "name": "python",
   "nbconvert_exporter": "python",
   "pygments_lexer": "ipython3",
   "version": "3.10.9"
  }
 },
 "nbformat": 4,
 "nbformat_minor": 5
}
