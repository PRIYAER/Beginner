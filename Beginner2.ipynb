{
 "cells": [
  {
   "cell_type": "code",
   "execution_count": 1,
   "id": "e11bef41",
   "metadata": {},
   "outputs": [
    {
     "name": "stdout",
     "output_type": "stream",
     "text": [
      "2\n",
      "2 4 6\n"
     ]
    }
   ],
   "source": [
    "\"\"\"Print the First 3 multiples of the given number \"N\". (N is a positive integer)\n",
    "Note: print the characters with a single space between them.\n",
    "Sample Input :\n",
    "2\n",
    "Sample Output :\n",
    "2 4 6\n",
    "\"\"\"\n",
    "\n",
    "n=int(input())\n",
    "for i in range(1):\n",
    "    print(n,n*2,n*3)"
   ]
  },
  {
   "cell_type": "code",
   "execution_count": 2,
   "id": "da08232e",
   "metadata": {},
   "outputs": [
    {
     "name": "stdout",
     "output_type": "stream",
     "text": [
      "2\n",
      "12.57\n"
     ]
    }
   ],
   "source": [
    "\"\"\"You are provided with the radius of a circle \"A\". Find the length of its circumference.\n",
    "Sample Input :\n",
    "2\n",
    "Sample Output :\n",
    "12.57\n",
    "\"\"\"\n",
    "\n",
    "r=float(input())\n",
    "cir=2*(22/7)*r\n",
    "print(round(cir,2))\n"
   ]
  },
  {
   "cell_type": "code",
   "execution_count": 3,
   "id": "4f5e34ab",
   "metadata": {},
   "outputs": [
    {
     "name": "stdout",
     "output_type": "stream",
     "text": [
      "1 5 6\n",
      "-2.00\n",
      "-3.00\n"
     ]
    }
   ],
   "source": [
    "\"\"\"Input Description:\n",
    "Three numbers corresponding to the coefficients of x(squared), x and constant are given as an input in that particular order\n",
    "Output Description:\n",
    "Print the two values of X after rounding off to 2 decimal places if required.\n",
    "Sample Input :\n",
    "1 5 6\n",
    "Sample Output :\n",
    "-2.00\n",
    "-3.00\n",
    "\"\"\"\n",
    "\n",
    "a,b,c=list(map(int,input().split()))\n",
    "d=((b**2)-(4*a*c))**0.5\n",
    "e=(-b+d)/(2*a)\n",
    "f=(-b-d)/(2*a)\n",
    "print(\"%.2f\"%round(e,2))\n",
    "print(\"%.2f\"%round(f,2))"
   ]
  },
  {
   "cell_type": "code",
   "execution_count": 4,
   "id": "5a76064f",
   "metadata": {},
   "outputs": [
    {
     "name": "stdout",
     "output_type": "stream",
     "text": [
      "2\n",
      "2000\n",
      "200000\n"
     ]
    }
   ],
   "source": [
    "\"\"\"You are given a number A in Kilometers. Convert this into B: Meters and C: Centi-Metres.\n",
    "Sample Input :\n",
    "2\n",
    "Sample Output :\n",
    "2000\n",
    "200000\n",
    "\"\"\"\n",
    "\n",
    "a=int(input())\n",
    "meter=a*1000\n",
    "centimeter=a*100000\n",
    "print(meter)\n",
    "print(centimeter)"
   ]
  },
  {
   "cell_type": "code",
   "execution_count": 5,
   "id": "652a34e0",
   "metadata": {},
   "outputs": [
    {
     "name": "stdout",
     "output_type": "stream",
     "text": [
      "18\n",
      "324\n"
     ]
    }
   ],
   "source": [
    "\"\"\"You are provided with a number \"N\", Find the Nth term of the series: 1, 4, 9, 16, 25, 36, 49, 64, 81, .......\n",
    "Sample Input :\n",
    "18\n",
    "Sample Output :\n",
    "324\n",
    "\"\"\"\n",
    "\n",
    "n=int(input())\n",
    "print(n**2)"
   ]
  },
  {
   "cell_type": "code",
   "execution_count": 6,
   "id": "136eb59a",
   "metadata": {},
   "outputs": [
    {
     "name": "stdout",
     "output_type": "stream",
     "text": [
      "6\n",
      "2\n",
      "4\n",
      "6\n"
     ]
    }
   ],
   "source": [
    "\"\"\"Write a code to get an integer N and print the even values from 1 till N in a separate line.\n",
    "Sample Input :\n",
    "6\n",
    "Sample Output :\n",
    "2\n",
    "4\n",
    "6\n",
    "\"\"\"\n",
    "\n",
    "n=int(input())\n",
    "for i in range(1,n+1):\n",
    "    if i%2==0:\n",
    "        print(i)"
   ]
  },
  {
   "cell_type": "code",
   "execution_count": 7,
   "id": "3750b833",
   "metadata": {},
   "outputs": [
    {
     "name": "stdout",
     "output_type": "stream",
     "text": [
      "10\n",
      "55\n"
     ]
    }
   ],
   "source": [
    "\"\"\"Write a code to get an integer N and print the sum of  values from 1 to N.\n",
    "Sample Input :\n",
    "10\n",
    "Sample Output :\n",
    "55\n",
    "\"\"\"\n",
    "\n",
    "n= int (input())\n",
    "s=0\n",
    "for i in range(n+1):\n",
    "    s=s+i\n",
    "print(s)"
   ]
  },
  {
   "cell_type": "code",
   "execution_count": 8,
   "id": "bd5e74f6",
   "metadata": {},
   "outputs": [
    {
     "name": "stdout",
     "output_type": "stream",
     "text": [
      "5\n",
      "1\n",
      "2\n",
      "3\n",
      "4\n",
      "5\n"
     ]
    }
   ],
   "source": [
    "\"\"\"Write a code to get an integer N and print values from 1 till N in a separate line.\n",
    "Sample Input :\n",
    "5\n",
    "Sample Output :\n",
    "1\n",
    "2\n",
    "3\n",
    "4\n",
    "5\n",
    "\"\"\"\n",
    "\n",
    "n=int(input())\n",
    "for i in range(1,n+1):\n",
    "    print(i)"
   ]
  },
  {
   "cell_type": "code",
   "execution_count": 9,
   "id": "8848269d",
   "metadata": {},
   "outputs": [
    {
     "name": "stdout",
     "output_type": "stream",
     "text": [
      "124\n",
      "7\n"
     ]
    }
   ],
   "source": [
    "\"\"\"Write a code get an integer number as input and print the sum of the digits.\n",
    "Sample Input :\n",
    "124\n",
    "Sample Output :\n",
    "7\n",
    "\"\"\"\n",
    "\n",
    "n=int(input())\n",
    "r=0\n",
    "while n!=0:\n",
    "   d=n%10\n",
    "   r=d+r\n",
    "   n=n//10\n",
    "print(r)\n",
    "    "
   ]
  },
  {
   "cell_type": "code",
   "execution_count": 10,
   "id": "13eaf4df",
   "metadata": {},
   "outputs": [
    {
     "name": "stdout",
     "output_type": "stream",
     "text": [
      "2 3\n",
      "1\n"
     ]
    }
   ],
   "source": [
    "\"\"\"Write a code to get 2 integers as input and find the HCF of the 2 integer without using recursion or Euclidean algorithm.\n",
    "Sample Input :\n",
    "2 3\n",
    "Sample Output :\n",
    "1\n",
    "\"\"\"\n",
    "\n",
    "a,b=list(map(int,input().split()))\n",
    "mini=min(a,b)\n",
    "hcf=0\n",
    "for i in range(1,mini+1):\n",
    "    if a%i==0 and b%i==0:\n",
    "        hcf=i\n",
    "print(hcf)\n"
   ]
  }
 ],
 "metadata": {
  "kernelspec": {
   "display_name": "Python 3 (ipykernel)",
   "language": "python",
   "name": "python3"
  },
  "language_info": {
   "codemirror_mode": {
    "name": "ipython",
    "version": 3
   },
   "file_extension": ".py",
   "mimetype": "text/x-python",
   "name": "python",
   "nbconvert_exporter": "python",
   "pygments_lexer": "ipython3",
   "version": "3.10.9"
  }
 },
 "nbformat": 4,
 "nbformat_minor": 5
}
