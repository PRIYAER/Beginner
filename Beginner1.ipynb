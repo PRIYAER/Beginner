{
 "cells": [
  {
   "cell_type": "code",
   "execution_count": 1,
   "id": "a7620f13",
   "metadata": {},
   "outputs": [
    {
     "name": "stdout",
     "output_type": "stream",
     "text": [
      "2\n",
      "3\n",
      "6\n"
     ]
    }
   ],
   "source": [
    "\"\"\"You are given A = Length of a rectangle & B = breadth of a rectangle. Find its area “C”. (A and B are natural numbers)\n",
    "Sample Input :\n",
    "2\n",
    "3\n",
    "Sample Output :\n",
    "6\n",
    "\"\"\"\n",
    "\n",
    "a=int(input())\n",
    "b=int(input())\n",
    "print(round(a*b,1))"
   ]
  },
  {
   "cell_type": "code",
   "execution_count": 2,
   "id": "6bdcbc90",
   "metadata": {},
   "outputs": [
    {
     "name": "stdout",
     "output_type": "stream",
     "text": [
      "2\n",
      "2\n"
     ]
    }
   ],
   "source": [
    "\"\"\"You are provided with a number, \"N\". Find its factorial.\n",
    "Sample Input :\n",
    "2\n",
    "Sample Output :\n",
    "2\n",
    "\"\"\"\n",
    "\n",
    "n = int(input())\n",
    "def fact(n):\n",
    "    if n in (0, 1):\n",
    "        return 1\n",
    "    else:\n",
    "        return n*fact(n-1)\n",
    "print(fact(n))"
   ]
  },
  {
   "cell_type": "code",
   "execution_count": 3,
   "id": "737f4ffc",
   "metadata": {},
   "outputs": [
    {
     "name": "stdout",
     "output_type": "stream",
     "text": [
      "2\n",
      "8\n"
     ]
    }
   ],
   "source": [
    "\"\"\"You are given with a number \"N\", find its cube.\n",
    "Sample Input :\n",
    "2\n",
    "Sample Output :\n",
    "8\n",
    "\"\"\"\n",
    "\n",
    "n=int(input()) \n",
    "print (n**3)"
   ]
  },
  {
   "cell_type": "code",
   "execution_count": 4,
   "id": "57d3db1f",
   "metadata": {},
   "outputs": [
    {
     "name": "stdout",
     "output_type": "stream",
     "text": [
      "2\n",
      "Even\n"
     ]
    }
   ],
   "source": [
    "\"\"\"You are provided with a number check whether its odd or even. Print \"Odd\" or \"Even\" for the corresponding cases.\n",
    "Sample Input :\n",
    "2\n",
    "Sample Output :\n",
    "Even\n",
    "\"\"\"\n",
    "\n",
    "n=int(input())\n",
    "if n%2==0:\n",
    "    print(\"Even\")\n",
    "else:\n",
    "    print(\"Odd\")"
   ]
  },
  {
   "cell_type": "code",
   "execution_count": 5,
   "id": "b436a18f",
   "metadata": {},
   "outputs": [
    {
     "name": "stdout",
     "output_type": "stream",
     "text": [
      "12\n",
      "53.6\n"
     ]
    }
   ],
   "source": [
    "\"\"\"You are given with a number A i.e. the temperature in Celcius. Write a program to convert this into Fahrenheit. \n",
    "Sample Input :\n",
    "12\n",
    "Sample Output :\n",
    "53.60\n",
    "\"\"\"\n",
    "\n",
    "temp=int(input())\n",
    "far=1.8*temp+32\n",
    "print(round(far, 2))"
   ]
  },
  {
   "cell_type": "code",
   "execution_count": 6,
   "id": "f0b19e36",
   "metadata": {},
   "outputs": [
    {
     "name": "stdout",
     "output_type": "stream",
     "text": [
      "8\n",
      "31\n"
     ]
    }
   ],
   "source": [
    "\"\"\"You will be provided with a number. Print the number of days in the month corresponding to that number.\n",
    "Note: In case the input is February, print 28 days. If the Input is not in valid range print \"Error\".\n",
    "Sample Input :\n",
    "8\n",
    "Sample Output :\n",
    "31\n",
    "\"\"\"\n",
    "\n",
    "a=int(input())\n",
    "b=[1,3,5,7,8,10,12]\n",
    "c=[4, 6,9,11]\n",
    "if a in b:\n",
    "    print(31)\n",
    "elif a in c:\n",
    "    print(30)\n",
    "elif a==2:\n",
    "    print (28)\n",
    "else:\n",
    "    print(\"Error\")"
   ]
  },
  {
   "cell_type": "code",
   "execution_count": 7,
   "id": "9a06580f",
   "metadata": {},
   "outputs": [
    {
     "name": "stdout",
     "output_type": "stream",
     "text": [
      "1\n",
      "2\n",
      "3\n",
      "3\n"
     ]
    }
   ],
   "source": [
    "\"\"\"You are given three numbers A, B & C. Print the largest amongst these three numbers.\n",
    "Sample Input :\n",
    "1\n",
    "2\n",
    "3\n",
    "Sample Output :\n",
    "3\n",
    "\"\"\"\n",
    "\n",
    "arr=[]\n",
    "for i in range(3):\n",
    "    arr.append(int(input()))\n",
    "print(max(arr))\n"
   ]
  },
  {
   "cell_type": "code",
   "execution_count": 8,
   "id": "fd2a2330",
   "metadata": {},
   "outputs": [
    {
     "name": "stdout",
     "output_type": "stream",
     "text": [
      "20\n",
      "173.21\n"
     ]
    }
   ],
   "source": [
    "\"\"\"The area of an equilateral triangle is ¼(√3a2) where \"a\" represents a side of the triangle. \n",
    "You are provided with the side \"a\". Find the area of the equilateral triangle.\n",
    "Sample Input :\n",
    "20\n",
    "Sample Output :\n",
    "173.21\n",
    "\"\"\"\n",
    "\n",
    "a=int(input())\n",
    "A=((3**0.5)*(a**2))\n",
    "b=A/4\n",
    "print(round(b, 2))"
   ]
  },
  {
   "cell_type": "code",
   "execution_count": 9,
   "id": "5d2aecbe",
   "metadata": {},
   "outputs": [
    {
     "name": "stdout",
     "output_type": "stream",
     "text": [
      "1000 2 5\n",
      "100.0\n"
     ]
    }
   ],
   "source": [
    "\"\"\"You are given with Principle amount($), Interest Rate(%) and Time (years) in that order. Find Simple Interest.\n",
    "Print the output up to two decimal places (Round-off if necessary).\n",
    "Sample Input :\n",
    "1000 2 5\n",
    "Sample Output :\n",
    "100.00\n",
    "\"\"\"\n",
    "\n",
    "p,t,r=map(float,input().split())\n",
    "SI=(p*t*r)/100\n",
    "print(round(SI,2))"
   ]
  },
  {
   "cell_type": "code",
   "execution_count": 10,
   "id": "07169ee4",
   "metadata": {},
   "outputs": [
    {
     "name": "stdout",
     "output_type": "stream",
     "text": [
      "4\n",
      "4\n",
      "4\n",
      "4\n",
      "4\n",
      "4\n"
     ]
    }
   ],
   "source": [
    "\"\"\"Write a code to get the input and print it 5 times.\n",
    "Sample Input :\n",
    "4\n",
    "Sample Output :\n",
    "4\n",
    "4\n",
    "4\n",
    "4\n",
    "4\n",
    "\"\"\"\n",
    "\n",
    "n=int(input())\n",
    "for i in range(5):\n",
    "    print(n)"
   ]
  }
 ],
 "metadata": {
  "kernelspec": {
   "display_name": "Python 3 (ipykernel)",
   "language": "python",
   "name": "python3"
  },
  "language_info": {
   "codemirror_mode": {
    "name": "ipython",
    "version": 3
   },
   "file_extension": ".py",
   "mimetype": "text/x-python",
   "name": "python",
   "nbconvert_exporter": "python",
   "pygments_lexer": "ipython3",
   "version": "3.10.9"
  }
 },
 "nbformat": 4,
 "nbformat_minor": 5
}
